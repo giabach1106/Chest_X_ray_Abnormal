{
 "cells": [
  {
   "cell_type": "code",
   "execution_count": 15,
   "metadata": {},
   "outputs": [],
   "source": [
    "import os\n",
    "import glob2\n",
    "import numpy as np\n",
    "import math\n",
    "import pandas as pd\n",
    "import shutil\n"
   ]
  },
  {
   "cell_type": "code",
   "execution_count": 16,
   "metadata": {},
   "outputs": [
    {
     "data": {
      "text/html": [
       "<div>\n",
       "<style scoped>\n",
       "    .dataframe tbody tr th:only-of-type {\n",
       "        vertical-align: middle;\n",
       "    }\n",
       "\n",
       "    .dataframe tbody tr th {\n",
       "        vertical-align: top;\n",
       "    }\n",
       "\n",
       "    .dataframe thead th {\n",
       "        text-align: right;\n",
       "    }\n",
       "</style>\n",
       "<table border=\"1\" class=\"dataframe\">\n",
       "  <thead>\n",
       "    <tr style=\"text-align: right;\">\n",
       "      <th></th>\n",
       "      <th>image_id</th>\n",
       "      <th>label</th>\n",
       "    </tr>\n",
       "  </thead>\n",
       "  <tbody>\n",
       "    <tr>\n",
       "      <th>0</th>\n",
       "      <td>50a418190bc3fb1ef1633bf9678929b3</td>\n",
       "      <td>1</td>\n",
       "    </tr>\n",
       "    <tr>\n",
       "      <th>1</th>\n",
       "      <td>21a10246a5ec7af151081d0cd6d65dc9</td>\n",
       "      <td>1</td>\n",
       "    </tr>\n",
       "    <tr>\n",
       "      <th>2</th>\n",
       "      <td>9a5094b2563a1ef3ff50dc5c7ff71345</td>\n",
       "      <td>0</td>\n",
       "    </tr>\n",
       "    <tr>\n",
       "      <th>3</th>\n",
       "      <td>051132a778e61a86eb147c7c6f564dfe</td>\n",
       "      <td>0</td>\n",
       "    </tr>\n",
       "    <tr>\n",
       "      <th>4</th>\n",
       "      <td>063319de25ce7edb9b1c6b8881290140</td>\n",
       "      <td>1</td>\n",
       "    </tr>\n",
       "    <tr>\n",
       "      <th>...</th>\n",
       "      <td>...</td>\n",
       "      <td>...</td>\n",
       "    </tr>\n",
       "    <tr>\n",
       "      <th>14995</th>\n",
       "      <td>7c0ddf911bdb68fca14d7172486827cb</td>\n",
       "      <td>1</td>\n",
       "    </tr>\n",
       "    <tr>\n",
       "      <th>14996</th>\n",
       "      <td>209e3a5c73c1195d805dd25d086b3c6d</td>\n",
       "      <td>1</td>\n",
       "    </tr>\n",
       "    <tr>\n",
       "      <th>14997</th>\n",
       "      <td>1bea772246421c37929f8cbc43dba729</td>\n",
       "      <td>1</td>\n",
       "    </tr>\n",
       "    <tr>\n",
       "      <th>14998</th>\n",
       "      <td>ae86eabab95525b41b8e79883ff1cef9</td>\n",
       "      <td>1</td>\n",
       "    </tr>\n",
       "    <tr>\n",
       "      <th>14999</th>\n",
       "      <td>839b2311ffad9bdd9aa98c74aad6e251</td>\n",
       "      <td>1</td>\n",
       "    </tr>\n",
       "  </tbody>\n",
       "</table>\n",
       "<p>15000 rows × 2 columns</p>\n",
       "</div>"
      ],
      "text/plain": [
       "                               image_id  label\n",
       "0      50a418190bc3fb1ef1633bf9678929b3      1\n",
       "1      21a10246a5ec7af151081d0cd6d65dc9      1\n",
       "2      9a5094b2563a1ef3ff50dc5c7ff71345      0\n",
       "3      051132a778e61a86eb147c7c6f564dfe      0\n",
       "4      063319de25ce7edb9b1c6b8881290140      1\n",
       "...                                 ...    ...\n",
       "14995  7c0ddf911bdb68fca14d7172486827cb      1\n",
       "14996  209e3a5c73c1195d805dd25d086b3c6d      1\n",
       "14997  1bea772246421c37929f8cbc43dba729      1\n",
       "14998  ae86eabab95525b41b8e79883ff1cef9      1\n",
       "14999  839b2311ffad9bdd9aa98c74aad6e251      1\n",
       "\n",
       "[15000 rows x 2 columns]"
      ]
     },
     "execution_count": 16,
     "metadata": {},
     "output_type": "execute_result"
    }
   ],
   "source": [
    "DF_RAW = pd.read_csv(\"/workspace/nabang1010/STEAM/LeGiaBach_STEAM/DATA/train_droped.csv\")\n",
    "DF_RAW"
   ]
  },
  {
   "cell_type": "code",
   "execution_count": 17,
   "metadata": {},
   "outputs": [],
   "source": [
    "\n",
    "list_image_abnormal = DF_RAW[DF_RAW[\"label\"] == 1][\"image_id\"].tolist()\n",
    "list_image_noraml = DF_RAW[DF_RAW[\"label\"] == 0][\"image_id\"].tolist()\n",
    "\n",
    "nb_train_abnormal = math.floor(len(list_image_abnormal)*0.75)\n",
    "rand_idx_train_abnormal = np.random.randint(0, len(list_image_abnormal), nb_train_abnormal)\n",
    "\n",
    "nb_train_normal = math.floor(len(list_image_noraml)*0.75)\n",
    "rand_idx_train_normal = np.random.randint(0, len(list_image_noraml), nb_train_normal)\n",
    "\n"
   ]
  },
  {
   "cell_type": "code",
   "execution_count": 18,
   "metadata": {},
   "outputs": [],
   "source": [
    "ROOT_IMAGE_FD = \"/workspace/nabang1010/STEAM/LeGiaBach_STEAM/DATA/dataset/images\"\n",
    "TRAIN_FD = \"/workspace/nabang1010/STEAM/LeGiaBach_STEAM/DATA/data_classify/train\"\n",
    "VAL_FD = \"/workspace/nabang1010/STEAM/LeGiaBach_STEAM/DATA/data_classify/val\""
   ]
  },
  {
   "cell_type": "code",
   "execution_count": null,
   "metadata": {},
   "outputs": [],
   "source": [
    "for idx in range(len(list_image_abnormal)):\n",
    "    if idx in rand_idx_train_abnormal:\n",
    "        shutil.copy(os.path.join(ROOT_IMAGE_FD, list_image_abnormal[idx]), os.path.join(TRAIN_FD, \"1\", list_image_abnormal[idx]))\n",
    "    else:\n",
    "        shutil.copy(os.path.join(ROOT_IMAGE_FD, list_image_abnormal[idx]), os.path.join(VAL_FD, \"1\", list_image_abnormal[idx]))\n",
    "\n",
    "for idx in range(len(list_image_noraml)):\n",
    "    if idx in rand_idx_train_normal:\n",
    "        shutil.copy(os.path.join(ROOT_IMAGE_FD, list_image_noraml[idx]), os.path.join(TRAIN_FD, \"0\", list_image_noraml[idx]))\n",
    "    else:\n",
    "        shutil.copy(os.path.join(ROOT_IMAGE_FD, list_image_noraml[idx]), os.path.join(VAL_FD, \"0\", list_image_noraml[idx]))"
   ]
  }
 ],
 "metadata": {
  "kernelspec": {
   "display_name": "Python 3.7.13 ('chestxray')",
   "language": "python",
   "name": "python3"
  },
  "language_info": {
   "codemirror_mode": {
    "name": "ipython",
    "version": 3
   },
   "file_extension": ".py",
   "mimetype": "text/x-python",
   "name": "python",
   "nbconvert_exporter": "python",
   "pygments_lexer": "ipython3",
   "version": "3.7.13"
  },
  "orig_nbformat": 4,
  "vscode": {
   "interpreter": {
    "hash": "3f8b4679781ced9c899ddd78ea0bbaf9fe7a19853500bd14589466003b24ea0a"
   }
  }
 },
 "nbformat": 4,
 "nbformat_minor": 2
}
