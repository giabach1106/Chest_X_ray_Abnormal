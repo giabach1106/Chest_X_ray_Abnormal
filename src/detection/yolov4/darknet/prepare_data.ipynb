{
 "cells": [
  {
   "cell_type": "code",
   "execution_count": 6,
   "metadata": {},
   "outputs": [
    {
     "name": "stdout",
     "output_type": "stream",
     "text": [
      "4394\n"
     ]
    }
   ],
   "source": [
    "\n",
    " \n",
    "import glob\n",
    "import math  \n",
    "import os\n",
    "import numpy as np\n",
    " \n",
    "files = []\n",
    "for ext in [\"*.png\", \"*.jpeg\", \"*.jpg\"]:\n",
    "  image_files = glob.glob(os.path.join(\"/workspace/nabang1010/STEAM/LeGiaBach_STEAM/DATA/Data_yolov5/\", ext))\n",
    "  files += image_files\n",
    "print(len(files))\n",
    " \n",
    "nb_val = math.floor(len(files)*0.2)\n",
    "rand_idx = np.random.randint(0, len(files), nb_val)\n",
    "\n",
    " \n",
    " \n",
    "\n",
    "with open(\"/workspace/nabang1010/STEAM/LeGiaBach_STEAM/src/yolov4/darknet/val.txt\", \"w\") as f:\n",
    "  for idx in np.arange(len(files)):\n",
    "    if (idx in rand_idx) and (os.path.exists(files[idx][:-3] + \"txt\")):\n",
    "      f.write(files[idx]+'\\n')\n",
    "\n",
    "\n",
    "with open(\"/workspace/nabang1010/STEAM/LeGiaBach_STEAM/src/yolov4/darknet/train.txt\", \"w\") as f:\n",
    "  for idx in np.arange(len(files)):\n",
    "    if (os.path.exists(files[idx][:-3] + \"txt\") and idx not in rand_idx):\n",
    "      f.write(files[idx]+'\\n')"
   ]
  }
 ],
 "metadata": {
  "kernelspec": {
   "display_name": "Python 3.7.13 ('DATN')",
   "language": "python",
   "name": "python3"
  },
  "language_info": {
   "codemirror_mode": {
    "name": "ipython",
    "version": 3
   },
   "file_extension": ".py",
   "mimetype": "text/x-python",
   "name": "python",
   "nbconvert_exporter": "python",
   "pygments_lexer": "ipython3",
   "version": "3.7.13"
  },
  "orig_nbformat": 4,
  "vscode": {
   "interpreter": {
    "hash": "9592ef7a6e676949a729bd56e8b3b3933d48a270df918ed35277571629d8bd62"
   }
  }
 },
 "nbformat": 4,
 "nbformat_minor": 2
}
